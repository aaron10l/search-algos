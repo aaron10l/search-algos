from analysis import time_all_search_algos, weighted_adjacency_matrix
import matplotlib.pyplot as plt
from bfs import bfs
from dfs import dfs
from heuristics import  h_sum_neighbors, h_min_neighbor
from greedy_search import greedy_search
from astar import astarSearch
# getting results for 1000 runs from arad to bucharest for all search algorithms
arad_to_bucharest = time_all_search_algos("Arad", "Bucharest")

sibiu_to_lugoj = time_all_search_algos("Sibiu", "Lugoj")

giurgiu_to_neamt = time_all_search_algos("Giurgiu", "Neamt")
# testing with a non existent city, should return empty list.
giurgiu_to_nonexistent = time_all_search_algos("Giurgiu", "NoCity")
all_results = {
    "Arad → Bucharest": arad_to_bucharest,
    "Sibiu → Lugoj": sibiu_to_lugoj,
    "Giurgiu → Neamt": giurgiu_to_neamt,
    "Giurgiu → NoCity": giurgiu_to_nonexistent,
}

styles = {
    "BFS": {"color": "tab:blue"},
    "DFS": {"color": "tab:orange"},
    "Greedy_Sum": {"color": "tab:green"},
    "Greedy_Min": {"color": "tab:red"},
    "Astar_Sum": {"color": "tab:purple"},
    "Astar_Min": {"color": "tab:brown"}
}

plt.figure(figsize=(10, 6))

for city_pair, algo_times in all_results.items():
    for algo, time in algo_times.items():
        plt.scatter(
            city_pair,
            time,
            color=styles[algo]["color"],
            label=algo,
        )

# Only show each algorithm once in the legend
handles, labels = plt.gca().get_legend_handles_labels()
by_label = dict(zip(labels, handles))
plt.legend(by_label.values(), by_label.keys())

plt.title("Search Algorithm Timing Results (1000 runs)")
plt.xlabel("Source → Destination")
plt.ylabel("Time (seconds)")
plt.xticks(rotation=20)
plt.grid(True, linestyle="--", alpha=0.5)

plt.show()
